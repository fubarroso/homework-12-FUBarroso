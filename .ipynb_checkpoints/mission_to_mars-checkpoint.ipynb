{
 "cells": [
  {
   "cell_type": "code",
   "execution_count": 1,
   "metadata": {},
   "outputs": [],
   "source": [
    "from splinter import Browser\n",
    "from bs4 import BeautifulSoup as bs\n",
    "import requests\n",
    "import pandas as pd\n",
    "\n",
    "!which chromedriver\n",
    "\n",
    "executable_path = {'executable_path': '/usr/local/bin/chromedriver'}\n",
    "browser = Browser('chrome', **executable_path, headless=False)"
   ]
  },
  {
   "cell_type": "code",
   "execution_count": 2,
   "metadata": {},
   "outputs": [],
   "source": [
    "#Step 1 - Scrapping"
   ]
  },
  {
   "cell_type": "code",
   "execution_count": 3,
   "metadata": {},
   "outputs": [],
   "source": [
    "#Nasa - Mars News\n",
    "\n",
    "url_1 = 'https://mars.nasa.gov/news/'\n",
    "    \n",
    "response = requests.get(url_1)\n",
    "\n",
    "soup = bs(response.text, 'html.parser')\n",
    "\n",
    "#print(soup.prettify())"
   ]
  },
  {
   "cell_type": "code",
   "execution_count": 4,
   "metadata": {},
   "outputs": [
    {
     "data": {
      "text/plain": [
       "\"NASA's Opportunity Rover Mission on Mars Comes to End\""
      ]
     },
     "execution_count": 4,
     "metadata": {},
     "output_type": "execute_result"
    }
   ],
   "source": [
    "news_title = soup.find('div', class_=\"content_title\").find('a').text.strip()\n",
    "news_title"
   ]
  },
  {
   "cell_type": "code",
   "execution_count": 5,
   "metadata": {},
   "outputs": [
    {
     "data": {
      "text/plain": [
       "\"NASA's Opportunity Mars rover mission is complete after 15 years on Mars. Opportunity's record-breaking exploration laid the groundwork for future missions to the Red Planet.\""
      ]
     },
     "execution_count": 5,
     "metadata": {},
     "output_type": "execute_result"
    }
   ],
   "source": [
    "news_p = soup.find('div', class_=\"rollover_description_inner\").text.strip()\n",
    "news_p"
   ]
  },
  {
   "cell_type": "code",
   "execution_count": 7,
   "metadata": {},
   "outputs": [
    {
     "data": {
      "text/plain": [
       "'https://www.jpl.nasa.gov/spaceimages/images/mediumsize/PIA17474_ip.jpg'"
      ]
     },
     "execution_count": 7,
     "metadata": {},
     "output_type": "execute_result"
    }
   ],
   "source": [
    "#JPL Mars Images - Featured Image\n",
    "\n",
    "url_2 = 'https://www.jpl.nasa.gov/spaceimages/?search=&category=Mars'\n",
    "\n",
    "browser.visit(url_2)\n",
    "\n",
    "browser.click_link_by_partial_text('FULL IMAGE')\n",
    "\n",
    "html = browser.html\n",
    "\n",
    "soup2 = bs(html, 'html.parser')\n",
    "\n",
    "pic_src = soup2.find('img', class_='fancybox-image')['src']\n",
    "\n",
    "#print(pic_src)\n",
    "\n",
    "featured_image_url = 'https://www.jpl.nasa.gov'+pic_src\n",
    "\n",
    "featured_image_url"
   ]
  },
  {
   "cell_type": "code",
   "execution_count": 8,
   "metadata": {},
   "outputs": [],
   "source": [
    "#Mars Weather\n",
    "\n",
    "url_3 = 'https://twitter.com/MarsWxReport?lang=en'\n",
    "\n",
    "response = requests.get(url_3)\n",
    "\n",
    "soup3 = bs(response.text, 'html.parser')\n",
    "\n",
    "tweets = soup3.find_all('p', class_=\"TweetTextSize\")"
   ]
  },
  {
   "cell_type": "code",
   "execution_count": 48,
   "metadata": {},
   "outputs": [
    {
     "name": "stdout",
     "output_type": "stream",
     "text": [
      "-----------\n",
      "<p class=\"TweetTextSize TweetTextSize--normal js-tweet-text tweet-text\" data-aria-label-part=\"0\" lang=\"en\">Curiosity is again operating normally following a boot problem first experienced last Friday. Look for more Gale Crater weather conditions soon.\n",
      "<a class=\"twitter-timeline-link\" data-expanded-url=\"https://www.jpl.nasa.gov/news/news.php?feature=7339\" dir=\"ltr\" href=\"https://t.co/zZsLjEsTpC\" rel=\"nofollow noopener\" target=\"_blank\" title=\"https://www.jpl.nasa.gov/news/news.php?feature=7339\"><span class=\"tco-ellipsis\"></span><span class=\"invisible\">https://www.</span><span class=\"js-display-url\">jpl.nasa.gov/news/news.php?</span><span class=\"invisible\">feature=7339</span><span class=\"tco-ellipsis\"><span class=\"invisible\"> </span>…</span></a><a class=\"twitter-timeline-link u-hidden\" data-pre-embedded=\"true\" dir=\"ltr\" href=\"https://t.co/gFMfXyeWDa\">pic.twitter.com/gFMfXyeWDa</a></p>\n",
      "-----------\n",
      "<p>We've detected that JavaScript is disabled in your browser. Would you like to proceed to legacy Twitter?</p>\n",
      "-----------\n",
      "<p class=\"TweetTextSize TweetTextSize--normal js-tweet-text tweet-text\" data-aria-label-part=\"0\" lang=\"en\"><a class=\"twitter-hashtag pretty-link js-nav\" data-query-source=\"hashtag_click\" dir=\"ltr\" href=\"/hashtag/Mars2020?src=hash\"><s>#</s><b>Mars2020</b></a> arm in the testbed<a class=\"twitter-timeline-link u-hidden\" data-pre-embedded=\"true\" dir=\"ltr\" href=\"https://t.co/iQ7idvnSi2\">pic.twitter.com/iQ7idvnSi2</a></p>\n",
      "-----------\n",
      "<p>We've detected that JavaScript is disabled in your browser. Would you like to proceed to legacy Twitter?</p>\n",
      "-----------\n",
      "<p class=\"TweetTextSize TweetTextSize--normal js-tweet-text tweet-text\" data-aria-label-part=\"0\" lang=\"en\">InSight sol 84 (2019-02-20) low -95.1ºC (-139.2ºF) high -13.2ºC (8.3ºF)\n",
      "winds from the SW at 4.1 m/s (9.3 mph) gusting to 10.8 m/s (24.2 mph)<a class=\"twitter-timeline-link u-hidden\" data-pre-embedded=\"true\" dir=\"ltr\" href=\"https://t.co/WlR4gr8gpC\">pic.twitter.com/WlR4gr8gpC</a></p>\n",
      "-----------\n",
      "<p>We've detected that JavaScript is disabled in your browser. Would you like to proceed to legacy Twitter?</p>\n",
      "-----------\n",
      "<p class=\"TweetTextSize TweetTextSize--normal js-tweet-text tweet-text\" data-aria-label-part=\"0\" lang=\"en\">InSight sol 83 (2019-02-19) low -95.0ºC (-139.0ºF) high -11.7ºC (11.0ºF)\n",
      "winds from the SW at 4.1 m/s (9.2 mph) gusting to 10.5 m/s (23.6 mph)\n",
      "pressure at 7.20 hPa</p>\n",
      "-----------\n",
      "<p>We've detected that JavaScript is disabled in your browser. Would you like to proceed to legacy Twitter?</p>\n",
      "-----------\n",
      "<p class=\"TweetTextSize TweetTextSize--normal js-tweet-text tweet-text\" data-aria-label-part=\"0\" lang=\"en\">InSight sol 82 (2019-02-18) low -94.8ºC (-138.6ºF) high -12.3ºC (9.8ºF)\n",
      "winds from the SW at 4.1 m/s (9.3 mph) gusting to 11.3 m/s (25.2 mph)\n",
      "pressure at 7.20 hPa</p>\n",
      "-----------\n",
      "<p>We've detected that JavaScript is disabled in your browser. Would you like to proceed to legacy Twitter?</p>\n",
      "-----------\n",
      "<p class=\"TweetTextSize TweetTextSize--normal js-tweet-text tweet-text\" data-aria-label-part=\"0\" lang=\"en\">InSight sol 81 (2019-02-17), high -17/2F, low -95/-138F, pressure at 7.23hPa, winds from the WNW at 12 mph gusting to 37.8 mph\n",
      "\n",
      "Welcome to the Mars Weather team <a class=\"twitter-atreply pretty-link js-nav\" data-mentioned-user-id=\"407387443\" dir=\"ltr\" href=\"/NASAInSight\"><s>@</s><b>NASAInSight</b></a>!\n",
      "<a class=\"twitter-timeline-link\" data-expanded-url=\"https://mars.nasa.gov/insight/weather/\" dir=\"ltr\" href=\"https://t.co/2EDVfFcJhp\" rel=\"nofollow noopener\" target=\"_blank\" title=\"https://mars.nasa.gov/insight/weather/\"><span class=\"tco-ellipsis\"></span><span class=\"invisible\">https://</span><span class=\"js-display-url\">mars.nasa.gov/insight/weathe</span><span class=\"invisible\">r/</span><span class=\"tco-ellipsis\"><span class=\"invisible\"> </span>…</span></a><a class=\"twitter-timeline-link u-hidden\" data-pre-embedded=\"true\" dir=\"ltr\" href=\"https://t.co/SH12FvcMfv\">pic.twitter.com/SH12FvcMfv</a></p>\n",
      "-----------\n",
      "<p>We've detected that JavaScript is disabled in your browser. Would you like to proceed to legacy Twitter?</p>\n",
      "-----------\n",
      "<p class=\"TweetTextSize TweetTextSize--normal js-tweet-text tweet-text\" data-aria-label-part=\"0\" lang=\"en\">InSight sol 80 (2019-02-16), high -16/3F, low -95/-139F, pressure at 7.23hPa, winds from the WNW at 10.7 mph gusting to 32.3 mph</p>\n",
      "-----------\n",
      "<p>We've detected that JavaScript is disabled in your browser. Would you like to proceed to legacy Twitter?</p>\n",
      "-----------\n",
      "<p class=\"TweetTextSize TweetTextSize--normal js-tweet-text tweet-text\" data-aria-label-part=\"0\" lang=\"en\">InSight sol 79 (2019-02-15), high -13/8F, low -95/-138F, pressure at 7.21hPa, winds from the WNW at 9.9 mph gusting to 26.2 mph</p>\n",
      "-----------\n",
      "<p>We've detected that JavaScript is disabled in your browser. Would you like to proceed to legacy Twitter?</p>\n",
      "-----------\n",
      "<p class=\"TweetTextSize TweetTextSize--normal js-tweet-text tweet-text\" data-aria-label-part=\"0\" lang=\"en\">InSight sol 78 (2019-02-14), high -15/4F, low -95/-138F, pressure at 7.22hPa, winds from the WNW at 10.5 mph gusting to 36.4 mph</p>\n",
      "-----------\n",
      "<p>We've detected that JavaScript is disabled in your browser. Would you like to proceed to legacy Twitter?</p>\n",
      "-----------\n",
      "<p class=\"TweetTextSize TweetTextSize--normal js-tweet-text tweet-text\" data-aria-label-part=\"0\" lang=\"en\">InSight sol 77 (2019-02-13), high -13C/10F, low -94C/-136F, pressure at 7.21 hPa, winds from the WNW at 9 mph gusting to 26.6 mph</p>\n",
      "-----------\n",
      "<p>We've detected that JavaScript is disabled in your browser. Would you like to proceed to legacy Twitter?</p>\n",
      "-----------\n",
      "<p class=\"TweetTextSize TweetTextSize--normal js-tweet-text tweet-text\" data-aria-label-part=\"0\" lang=\"en\"><a class=\"twitter-hashtag pretty-link js-nav\" data-query-source=\"hashtag_click\" dir=\"ltr\" href=\"/hashtag/Opportunity?src=hash\"><s>#</s><b>Opportunity</b></a> the robot achieved so much because of <a class=\"twitter-hashtag pretty-link js-nav\" data-query-source=\"hashtag_click\" dir=\"ltr\" href=\"/hashtag/Opportunity?src=hash\"><s>#</s><b>Opportunity</b></a> the team.  People like <a class=\"twitter-atreply pretty-link js-nav\" data-mentioned-user-id=\"296462011\" dir=\"ltr\" href=\"/PlanetaryKeri\"><s>@</s><b>PlanetaryKeri</b></a>, <a class=\"twitter-atreply pretty-link js-nav\" data-mentioned-user-id=\"15402623\" dir=\"ltr\" href=\"/doug_ellison\"><s>@</s><b>doug_ellison</b></a>, <a class=\"twitter-atreply pretty-link js-nav\" data-mentioned-user-id=\"15947277\" dir=\"ltr\" href=\"/marsroverdriver\"><s>@</s><b>marsroverdriver</b></a>, <a class=\"twitter-atreply pretty-link js-nav\" data-mentioned-user-id=\"25219709\" dir=\"ltr\" href=\"/tanyaofmars\"><s>@</s><b>tanyaofmars</b></a>,  <a class=\"twitter-atreply pretty-link js-nav\" data-mentioned-user-id=\"43117170\" dir=\"ltr\" href=\"/marssciencegrad\"><s>@</s><b>marssciencegrad</b></a>, <a class=\"twitter-atreply pretty-link js-nav\" data-mentioned-user-id=\"55356886\" dir=\"ltr\" href=\"/cirquelar\"><s>@</s><b>cirquelar</b></a>, <a class=\"twitter-atreply pretty-link js-nav\" data-mentioned-user-id=\"44872461\" dir=\"ltr\" href=\"/bellutta\"><s>@</s><b>bellutta</b></a>, <a class=\"twitter-atreply pretty-link js-nav\" data-mentioned-user-id=\"260380078\" dir=\"ltr\" href=\"/Dr_ThomasZ\"><s>@</s><b>Dr_ThomasZ</b></a> and so many more. Read more at <a class=\"twitter-hashtag pretty-link js-nav\" data-query-source=\"hashtag_click\" dir=\"ltr\" href=\"/hashtag/WRAL?src=hash\"><s>#</s><b>WRAL</b></a><a class=\"twitter-timeline-link u-hidden\" data-expanded-url=\"https://www.wral.com/my-battery-is-low-and-it-s-getting-dark-end-of-opportunity-mission-a-loss-for-team/18197530/\" dir=\"ltr\" href=\"https://t.co/bZY3MXlY9t\" rel=\"nofollow noopener\" target=\"_blank\" title=\"https://www.wral.com/my-battery-is-low-and-it-s-getting-dark-end-of-opportunity-mission-a-loss-for-team/18197530/\"><span class=\"tco-ellipsis\"></span><span class=\"invisible\">https://www.</span><span class=\"js-display-url\">wral.com/my-battery-is-</span><span class=\"invisible\">low-and-it-s-getting-dark-end-of-opportunity-mission-a-loss-for-team/18197530/</span><span class=\"tco-ellipsis\"><span class=\"invisible\"> </span>…</span></a></p>\n",
      "-----------\n",
      "<p>We've detected that JavaScript is disabled in your browser. Would you like to proceed to legacy Twitter?</p>\n",
      "-----------\n",
      "<p class=\"TweetTextSize TweetTextSize--normal js-tweet-text tweet-text\" data-aria-label-part=\"0\" lang=\"en\">Sol 2319 (2019-02-13), high -17C/1F, low -72C/-97F, pressure at 8.12 hPa, daylight 06:46-18:52<a class=\"twitter-timeline-link u-hidden\" data-pre-embedded=\"true\" dir=\"ltr\" href=\"https://t.co/anlHR95BMs\">pic.twitter.com/anlHR95BMs</a></p>\n",
      "-----------\n",
      "<p>We've detected that JavaScript is disabled in your browser. Would you like to proceed to legacy Twitter?</p>\n",
      "-----------\n",
      "<p class=\"TweetTextSize TweetTextSize--normal js-tweet-text tweet-text\" data-aria-label-part=\"0\" lang=\"en\">Sol 2318 (2019-02-12), high -17C/1F, low -73C/-99F, pressure at 8.11 hPa, daylight 06:46-18:52</p>\n",
      "-----------\n",
      "<p>We've detected that JavaScript is disabled in your browser. Would you like to proceed to legacy Twitter?</p>\n",
      "-----------\n",
      "<p class=\"TweetTextSize TweetTextSize--normal js-tweet-text tweet-text\" data-aria-label-part=\"0\" lang=\"en\">Sol 2317 (2019-02-11), high -16C/3F, low -73C/-99F, pressure at 8.12 hPa, daylight 06:46-18:52<a class=\"twitter-timeline-link u-hidden\" data-pre-embedded=\"true\" dir=\"ltr\" href=\"https://t.co/D15lfEs6RN\">pic.twitter.com/D15lfEs6RN</a></p>\n",
      "-----------\n",
      "<p>We've detected that JavaScript is disabled in your browser. Would you like to proceed to legacy Twitter?</p>\n",
      "-----------\n",
      "<p class=\"TweetTextSize TweetTextSize--normal js-tweet-text tweet-text\" data-aria-label-part=\"0\" lang=\"en\">Sol 2316 (2019-02-10), high -14C/6F, low -72C/-97F, pressure at 8.14 hPa, daylight 06:47-18:52</p>\n",
      "-----------\n",
      "<p>We've detected that JavaScript is disabled in your browser. Would you like to proceed to legacy Twitter?</p>\n",
      "-----------\n",
      "<p class=\"TweetTextSize TweetTextSize--normal js-tweet-text tweet-text\" data-aria-label-part=\"0\" lang=\"en\">While the Sun has set on <a class=\"twitter-hashtag pretty-link js-nav\" data-query-source=\"hashtag_click\" dir=\"ltr\" href=\"/hashtag/Opportunity?src=hash\"><s>#</s><b>Opportunity</b></a>, the MER program lives on in mountains of data scientists will be making new discoveries from for decades.\n",
      "\n",
      "We asked 90 Sols and 1km, she gave us 5110 Sols and 45km. So long Oppy, and thanks for all the data. \n",
      "\n",
      "MER-B EOM<a class=\"twitter-timeline-link u-hidden\" data-pre-embedded=\"true\" dir=\"ltr\" href=\"https://t.co/33obWOXbNx\">pic.twitter.com/33obWOXbNx</a></p>\n",
      "-----------\n",
      "<p>We've detected that JavaScript is disabled in your browser. Would you like to proceed to legacy Twitter?</p>\n",
      "-----------\n",
      "<p class=\"TweetTextSize TweetTextSize--normal js-tweet-text tweet-text\" data-aria-label-part=\"4\" lang=\"en\">Join NASA at 2pm ET tomorrow for results of attempts to contact Oppy.\n",
      "\n",
      "<a class=\"twitter-timeline-link\" data-expanded-url=\"https://www.nasa.gov/press-release/nasa-to-share-results-of-effort-to-recover-mars-opportunity-rover/\" dir=\"ltr\" href=\"https://t.co/K3TkA5PGU2\" rel=\"nofollow noopener\" target=\"_blank\" title=\"https://www.nasa.gov/press-release/nasa-to-share-results-of-effort-to-recover-mars-opportunity-rover/\"><span class=\"tco-ellipsis\"></span><span class=\"invisible\">https://www.</span><span class=\"js-display-url\">nasa.gov/press-release/</span><span class=\"invisible\">nasa-to-share-results-of-effort-to-recover-mars-opportunity-rover/</span><span class=\"tco-ellipsis\"><span class=\"invisible\"> </span>…</span></a><a class=\"twitter-timeline-link u-hidden\" data-expanded-url=\"https://twitter.com/PlanetaryKeri/status/1095469660017840128\" dir=\"ltr\" href=\"https://t.co/1NnqMDLu0n\" rel=\"nofollow noopener\" target=\"_blank\" title=\"https://twitter.com/PlanetaryKeri/status/1095469660017840128\"><span class=\"tco-ellipsis\"></span><span class=\"invisible\">https://</span><span class=\"js-display-url\">twitter.com/PlanetaryKeri/</span><span class=\"invisible\">status/1095469660017840128</span><span class=\"tco-ellipsis\"><span class=\"invisible\"> </span>…</span></a></p>\n",
      "-----------\n",
      "<p>We've detected that JavaScript is disabled in your browser. Would you like to proceed to legacy Twitter?</p>\n",
      "-----------\n",
      "<p class=\"TweetTextSize TweetTextSize--normal js-tweet-text tweet-text\" data-aria-label-part=\"0\" lang=\"en\">Sol 2315 (2019-02-09), high -17C/1F, low -71C/-95F, pressure at 8.13 hPa, daylight 06:47-18:52<a class=\"twitter-timeline-link u-hidden\" data-pre-embedded=\"true\" dir=\"ltr\" href=\"https://t.co/xnGU2i98WB\">pic.twitter.com/xnGU2i98WB</a></p>\n",
      "-----------\n",
      "<p>We've detected that JavaScript is disabled in your browser. Would you like to proceed to legacy Twitter?</p>\n",
      "-----------\n",
      "<p class=\"TweetTextSize TweetTextSize--normal js-tweet-text tweet-text\" data-aria-label-part=\"0\" lang=\"en\">Sol 2314 (2019-02-08), high -16C/3F, low -71C/-95F, pressure at 8.14 hPa, daylight 06:47-18:53</p>\n",
      "-----------\n",
      "<p>We've detected that JavaScript is disabled in your browser. Would you like to proceed to legacy Twitter?</p>\n",
      "-----------\n",
      "<p class=\"TweetTextSize TweetTextSize--normal js-tweet-text tweet-text\" data-aria-label-part=\"0\" lang=\"en\">Sol 2313 (2019-02-07), high -14C/6F, low -71C/-95F, pressure at 8.14 hPa, daylight 06:47-18:53</p>\n",
      "-----------\n",
      "<p>We've detected that JavaScript is disabled in your browser. Would you like to proceed to legacy Twitter?</p>\n"
     ]
    }
   ],
   "source": [
    "for tweet in tweets:\n",
    "    print('-----------')\n",
    "    print(tweet)\n",
    "    print('-----------')\n",
    "    paragraph = soup3.find('p')\n",
    "    print(paragraph)\n",
    "    "
   ]
  },
  {
   "cell_type": "code",
   "execution_count": 11,
   "metadata": {},
   "outputs": [],
   "source": [
    "#Mars Facts"
   ]
  },
  {
   "cell_type": "code",
   "execution_count": 12,
   "metadata": {},
   "outputs": [
    {
     "data": {
      "text/html": [
       "<div>\n",
       "<style scoped>\n",
       "    .dataframe tbody tr th:only-of-type {\n",
       "        vertical-align: middle;\n",
       "    }\n",
       "\n",
       "    .dataframe tbody tr th {\n",
       "        vertical-align: top;\n",
       "    }\n",
       "\n",
       "    .dataframe thead th {\n",
       "        text-align: right;\n",
       "    }\n",
       "</style>\n",
       "<table border=\"1\" class=\"dataframe\">\n",
       "  <thead>\n",
       "    <tr style=\"text-align: right;\">\n",
       "      <th></th>\n",
       "      <th>0</th>\n",
       "      <th>1</th>\n",
       "    </tr>\n",
       "  </thead>\n",
       "  <tbody>\n",
       "    <tr>\n",
       "      <th>0</th>\n",
       "      <td>Equatorial Diameter:</td>\n",
       "      <td>6,792 km</td>\n",
       "    </tr>\n",
       "    <tr>\n",
       "      <th>1</th>\n",
       "      <td>Polar Diameter:</td>\n",
       "      <td>6,752 km</td>\n",
       "    </tr>\n",
       "    <tr>\n",
       "      <th>2</th>\n",
       "      <td>Mass:</td>\n",
       "      <td>6.42 x 10^23 kg (10.7% Earth)</td>\n",
       "    </tr>\n",
       "    <tr>\n",
       "      <th>3</th>\n",
       "      <td>Moons:</td>\n",
       "      <td>2 (Phobos &amp; Deimos)</td>\n",
       "    </tr>\n",
       "    <tr>\n",
       "      <th>4</th>\n",
       "      <td>Orbit Distance:</td>\n",
       "      <td>227,943,824 km (1.52 AU)</td>\n",
       "    </tr>\n",
       "    <tr>\n",
       "      <th>5</th>\n",
       "      <td>Orbit Period:</td>\n",
       "      <td>687 days (1.9 years)</td>\n",
       "    </tr>\n",
       "    <tr>\n",
       "      <th>6</th>\n",
       "      <td>Surface Temperature:</td>\n",
       "      <td>-153 to 20 °C</td>\n",
       "    </tr>\n",
       "    <tr>\n",
       "      <th>7</th>\n",
       "      <td>First Record:</td>\n",
       "      <td>2nd millennium BC</td>\n",
       "    </tr>\n",
       "    <tr>\n",
       "      <th>8</th>\n",
       "      <td>Recorded By:</td>\n",
       "      <td>Egyptian astronomers</td>\n",
       "    </tr>\n",
       "  </tbody>\n",
       "</table>\n",
       "</div>"
      ],
      "text/plain": [
       "                      0                              1\n",
       "0  Equatorial Diameter:                       6,792 km\n",
       "1       Polar Diameter:                       6,752 km\n",
       "2                 Mass:  6.42 x 10^23 kg (10.7% Earth)\n",
       "3                Moons:            2 (Phobos & Deimos)\n",
       "4       Orbit Distance:       227,943,824 km (1.52 AU)\n",
       "5         Orbit Period:           687 days (1.9 years)\n",
       "6  Surface Temperature:                  -153 to 20 °C\n",
       "7         First Record:              2nd millennium BC\n",
       "8          Recorded By:           Egyptian astronomers"
      ]
     },
     "execution_count": 12,
     "metadata": {},
     "output_type": "execute_result"
    }
   ],
   "source": [
    "url_4 = 'https://space-facts.com/mars/'\n",
    "\n",
    "data_table = pd.read_html(url_4)\n",
    "mars_table= data_table[0]\n",
    "mars_table"
   ]
  },
  {
   "cell_type": "code",
   "execution_count": 13,
   "metadata": {},
   "outputs": [],
   "source": [
    "mars_table.to_html('table.html', header=False, index=False)\n",
    "\n",
    "!open table.html"
   ]
  },
  {
   "cell_type": "code",
   "execution_count": 14,
   "metadata": {},
   "outputs": [],
   "source": [
    "#Mars Hemispheres"
   ]
  },
  {
   "cell_type": "code",
   "execution_count": 44,
   "metadata": {},
   "outputs": [],
   "source": [
    "url_5 = 'https://astrogeology.usgs.gov/search/results?q=hemisphere+enhanced&k1=target&v1=Mars'\n",
    "\n",
    "response = requests.get(url_5)\n",
    "\n",
    "soup5 = bs(response.text, 'html.parser')\n",
    "\n",
    "#hemisphere_links = soup.find_all('a', class_=\"itemLink product-item\")\n",
    "\n",
    "#itemLink product-item"
   ]
  },
  {
   "cell_type": "code",
   "execution_count": 45,
   "metadata": {},
   "outputs": [
    {
     "name": "stdout",
     "output_type": "stream",
     "text": [
      "['http://astropedia.astrogeology.usgs.gov/download/Mars/Viking/cerberus_enhanced.tif', 'http://astropedia.astrogeology.usgs.gov/download/Mars/Viking/schiaparelli_enhanced.tif', 'http://astropedia.astrogeology.usgs.gov/download/Mars/Viking/syrtis_major_enhanced.tif', 'http://astropedia.astrogeology.usgs.gov/download/Mars/Viking/valles_marineris_enhanced.tif']\n",
      "---------------\n",
      "['Cerberus Hemisphere Enhanced', 'Schiaparelli Hemisphere Enhanced', 'Syrtis Major Hemisphere Enhanced', 'Valles Marineris Hemisphere Enhanced']\n"
     ]
    }
   ],
   "source": [
    "hemisphere_links = soup5.find_all('div', class_=\"item\")   \n",
    "\n",
    "hemis_titles=[]\n",
    "hemis_links=[]\n",
    "\n",
    "\n",
    "\n",
    "for links in hemisphere_links:\n",
    "    title = links.h3.text\n",
    "    \n",
    "    hrefs = links.a['href']\n",
    "    link = 'https://astrogeology.usgs.gov'+hrefs\n",
    "    \n",
    "    response = requests.get(link)\n",
    "    soup_2 = bs(response.text, 'html.parser')\n",
    "    photo_link = soup_2.find('a', href=True, text='Original')['href']\n",
    "    \n",
    "    hemis_titles.append(title)\n",
    "    hemis_links.append(photo_link)\n",
    "    \n",
    "\n",
    "print(hemis_links)\n",
    "print('---------------')\n",
    "print(hemis_titles)"
   ]
  },
  {
   "cell_type": "code",
   "execution_count": 46,
   "metadata": {},
   "outputs": [
    {
     "data": {
      "text/plain": [
       "'Cerberus Hemisphere Enhanced'"
      ]
     },
     "execution_count": 46,
     "metadata": {},
     "output_type": "execute_result"
    }
   ],
   "source": [
    "hemis_titles[0]"
   ]
  },
  {
   "cell_type": "code",
   "execution_count": 47,
   "metadata": {},
   "outputs": [
    {
     "data": {
      "text/plain": [
       "'http://astropedia.astrogeology.usgs.gov/download/Mars/Viking/cerberus_enhanced.tif'"
      ]
     },
     "execution_count": 47,
     "metadata": {},
     "output_type": "execute_result"
    }
   ],
   "source": [
    "hemis_links[0]"
   ]
  },
  {
   "cell_type": "code",
   "execution_count": null,
   "metadata": {},
   "outputs": [],
   "source": []
  }
 ],
 "metadata": {
  "kernelspec": {
   "display_name": "Python 3",
   "language": "python",
   "name": "python3"
  },
  "language_info": {
   "codemirror_mode": {
    "name": "ipython",
    "version": 3
   },
   "file_extension": ".py",
   "mimetype": "text/x-python",
   "name": "python",
   "nbconvert_exporter": "python",
   "pygments_lexer": "ipython3",
   "version": "3.6.7"
  }
 },
 "nbformat": 4,
 "nbformat_minor": 2
}
